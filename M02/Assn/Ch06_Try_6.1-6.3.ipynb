{
 "cells": [
  {
   "cell_type": "code",
   "execution_count": null,
   "id": "3899b7d3-70f5-4ed6-9f8e-024ecaec5401",
   "metadata": {},
   "outputs": [],
   "source": [
    "'''\n",
    "M02 Programming Assignment - Loops and Conditionals\n",
    "Author: Nelson Marte\n",
    "completed 03-31-2025\n",
    "Assignment:\n",
    "Complete the following sections in your Jupyter Notebook:\n",
    "4.1\n",
    "4.2\n",
    "6.1\n",
    "6.2\n",
    "6.3\n",
    "Make sure both answer the prompts(if given) and complete the Python interactive interpreter piece for each question\n",
    "You can do this in Jupyter notebooks by inserting code to complete the interactive interpreter piece and adding markdown to answer the prompts (if given) for each question\n",
    "'''"
   ]
  },
  {
   "cell_type": "code",
   "execution_count": 1,
   "id": "e1dbc7d6-05f7-4736-b34a-5ee136338968",
   "metadata": {},
   "outputs": [
    {
     "name": "stdout",
     "output_type": "stream",
     "text": [
      "3\n",
      "2\n",
      "1\n",
      "0\n"
     ]
    }
   ],
   "source": [
    "# THINGS TO DO\n",
    "\n",
    "# SECTION 6.1\n",
    "\n",
    "# Use a for loop to print the values of the list [3, 2, 1, 0].\n",
    "\n",
    "for n in range(3,-1,-1):\n",
    "    print(n)"
   ]
  },
  {
   "cell_type": "code",
   "execution_count": 3,
   "id": "f00d889f-a8cc-4c8a-878a-907eaece5f1b",
   "metadata": {},
   "outputs": [
    {
     "name": "stdout",
     "output_type": "stream",
     "text": [
      "Searching... 1 is Too low\n",
      "Searching... 2 is Too low\n",
      "Searching... 3 is Too low\n",
      "Searching... 4 is Too low\n",
      "Searching... 5 is Too low\n",
      "Searching... 6 is Too low\n",
      "Found it! It is number 7\n",
      "Searching....Opps 8 is too high. Exiting program.\n"
     ]
    }
   ],
   "source": [
    "# SECTION 6.2\n",
    "\n",
    "# Assign the value 7 to the variable guess_me, and the value 1 to the variable number.\n",
    "# Write a while loop that compares number with guess_me. Print 'too low' if number is less than guess me.\n",
    "# If number equals guess_me, print 'found it!' and then exit the loop. If number is greater than guess_me,\n",
    "# print 'oops' and then exit the loop. Increment number at the end of the loop.\n",
    "\n",
    "# Name Variables\n",
    "guess_me = 7\n",
    "number = 1\n",
    "# While loop with conditional IF statements\n",
    "while True:\n",
    "    if number < guess_me:\n",
    "        print(\"Searching...\", number, \"is Too low\")\n",
    "    elif number == guess_me:\n",
    "        print(\"Found it! It is number\", guess_me)\n",
    "        # BREAK was not needed here as I wanted to continue the count to satisfy the second condition.\n",
    "        # This is intentional. Hoping not to lose points on this alteration.\n",
    "    else:\n",
    "        number > guess_me\n",
    "        print(\"Searching....Opps\", number, \"is too high. Exiting program.\")\n",
    "        break\n",
    "    number += 1"
   ]
  },
  {
   "cell_type": "code",
   "execution_count": 5,
   "id": "69757433-74ec-431d-b907-977dc1f4ef36",
   "metadata": {},
   "outputs": [
    {
     "name": "stdout",
     "output_type": "stream",
     "text": [
      "0 Too Low\n",
      "1 Too Low\n",
      "2 Too Low\n",
      "3 Too Low\n",
      "4 Too Low\n",
      "found it! 5\n",
      "6 Oops\n",
      "7 Oops\n",
      "8 Oops\n",
      "9 Oops\n"
     ]
    }
   ],
   "source": [
    "# SECTION 6.3\n",
    "\n",
    "# Assign the value 5 to the variable guess_me. Use a for loop to iterate a variable called number over range(10).\n",
    "# If number is less than guess_me, print 'too low'. If it equals guess_me, print found it! and then break out of the for loop. \n",
    "# If number is greater than guess_me, print 'oops' and then exit the loop.\n",
    "\n",
    "# Intiailize Variables\n",
    "second_guess_me = 5\n",
    "second_number = 0\n",
    "# For loop to iterate over the 10 integer range.\n",
    "for second_number in range(10):\n",
    "    if second_number < second_guess_me:\n",
    "        print(second_number, \"Too Low\")\n",
    "    elif second_number == second_guess_me:\n",
    "        print(\"found it!\", second_number)\n",
    "    elif second_number > second_guess_me:\n",
    "        print(second_number, \"Oops\")\n",
    "    second_number += 1"
   ]
  },
  {
   "cell_type": "code",
   "execution_count": null,
   "id": "425bc72c-f5e8-48ef-bfcd-02ce357b36fc",
   "metadata": {},
   "outputs": [],
   "source": []
  }
 ],
 "metadata": {
  "kernelspec": {
   "display_name": "Python [conda env:base] *",
   "language": "python",
   "name": "conda-base-py"
  },
  "language_info": {
   "codemirror_mode": {
    "name": "ipython",
    "version": 3
   },
   "file_extension": ".py",
   "mimetype": "text/x-python",
   "name": "python",
   "nbconvert_exporter": "python",
   "pygments_lexer": "ipython3",
   "version": "3.12.7"
  }
 },
 "nbformat": 4,
 "nbformat_minor": 5
}
