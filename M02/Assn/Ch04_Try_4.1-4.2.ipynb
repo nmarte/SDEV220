{
 "cells": [
  {
   "cell_type": "code",
   "execution_count": 1,
   "id": "ac4b8321-5d8c-4b1c-be45-2ec61f0508a4",
   "metadata": {},
   "outputs": [
    {
     "name": "stdin",
     "output_type": "stream",
     "text": [
      "Please enter a wholenumber between 1 and 10:  5\n"
     ]
    },
    {
     "name": "stdout",
     "output_type": "stream",
     "text": [
      "Too low a guess\n",
      "That is most likely a pea\n"
     ]
    }
   ],
   "source": [
    "'''\n",
    "M02 Programming Assignment - Loops and Conditionals\n",
    "Author: Nelson Marte\n",
    "completed 03-25-2025\n",
    "Assignment:\n",
    "Complete the following sections in your Jupyter Notebook:\n",
    "4.1\n",
    "4.2\n",
    "6.1\n",
    "6.2\n",
    "6.3\n",
    "Make sure both answer the prompts(if given) and complete the Python interactive interpreter piece for each question\n",
    "You can do this in Jupyter notebooks by inserting code to complete the interactive interpreter piece and adding markdown to answer the prompts (if given) for each question\n",
    "'''\n",
    "\n",
    "# THINGS TO DO\n",
    "\n",
    "# Section 4.1\n",
    "# Choose a number between 1 and 10 and assign it to the variable secret. \n",
    "# Then, select another number between 1 and 10 and assign it to the \n",
    "# variable guess. Next, write the conditional tests (if, else, and elif) \n",
    "# to print the string 'too low' if guess is less than secret, \n",
    "# 'too high' if greater than secret, and 'just right' if equal to secret.\n",
    "\n",
    "# Name Variables\n",
    "secret = 7\n",
    "guess = int(input(\"Please enter a wholenumber between 1 and 10: \"))\n",
    "if guess < 1 or guess > 10:\n",
    "    print(\"Did you follow instructions?\")\n",
    "elif guess < secret:\n",
    "    print(\"Too low a guess\")\n",
    "elif guess > secret:\n",
    "    print(\"Too high a guess\")\n",
    "elif guess == secret:\n",
    "    print(\"That's just right\")\n",
    "else:\n",
    "    print(\"That's not a number.\")\n",
    "\n",
    "\n",
    "# Section 4.2\n",
    "# Assign True or False to the variables small and green. \n",
    "# Write some if/else statements to print which of these matches \n",
    "# those choices: cherry, pea, watermelon, pumpkin.\n",
    "\n",
    "small = True\n",
    "green = True\n",
    "if small:\n",
    "    if green:\n",
    "        print(\"That is most likely a pea\")\n",
    "    else:\n",
    "        print(\"That's probably cherry\")\n",
    "else:\n",
    "    if green:\n",
    "        print(\"It's a watermelon\")\n",
    "    else:\n",
    "        print(\"It's probably a pumpkin\")"
   ]
  },
  {
   "cell_type": "code",
   "execution_count": null,
   "id": "32bd4f5c-92aa-4bb6-97cb-d730b075ff69",
   "metadata": {},
   "outputs": [],
   "source": []
  }
 ],
 "metadata": {
  "kernelspec": {
   "display_name": "Python [conda env:base] *",
   "language": "python",
   "name": "conda-base-py"
  },
  "language_info": {
   "codemirror_mode": {
    "name": "ipython",
    "version": 3
   },
   "file_extension": ".py",
   "mimetype": "text/x-python",
   "name": "python",
   "nbconvert_exporter": "python",
   "pygments_lexer": "ipython3",
   "version": "3.12.7"
  }
 },
 "nbformat": 4,
 "nbformat_minor": 5
}
