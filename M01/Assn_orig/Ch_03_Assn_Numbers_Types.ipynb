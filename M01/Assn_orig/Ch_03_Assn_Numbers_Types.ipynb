{
 "cells": [
  {
   "cell_type": "code",
   "execution_count": 43,
   "id": "a86f3653-3042-438f-90a0-c1b658abb506",
   "metadata": {},
   "outputs": [
    {
     "name": "stdout",
     "output_type": "stream",
     "text": [
      "The total seconds in one hour are 3600\n",
      "There are 86400 seconds in one day\n",
      "24.0\n",
      "24\n"
     ]
    }
   ],
   "source": [
    "'''\n",
    "M01 Programming Assignment - Numbers and Types\n",
    "Author: Nelson Marte\n",
    "completed 10-12-2024\n",
    "Assignment:\n",
    "Complete sections 3.1 through 3.6 utilizing your Jupyter Notebook\n",
    "Make sure both answer the prompts(if given) and complete the Python interactive interpreter piece for each question\n",
    "You can do this in Jupyter notebooks by inserting code to complete the interactive interpreter piece and adding markdown to answer the prompts (if given) for each question\n",
    "'''\n",
    "\n",
    "# THINGS TO DO\n",
    "\n",
    "# Section 3.1 How many seconds are in an hour? Use the interactive interpreter as a calculator \n",
    "# and multiply the number of seconds in a minute (60) by the number of minutes in an hour (also 60).\n",
    "\n",
    "# Name the variables\n",
    "seconds = 1\n",
    "minute = seconds*60\n",
    "hour = minute*60\n",
    "\n",
    "print(\"The total seconds in one hour are\", hour)\n",
    "\n",
    "# 3.2 Assign the result from the previous task (seconds in an hour) to a variable called seconds_per_hour.\n",
    "\n",
    "seconds_per_hour = hour\n",
    "\n",
    "# 3.3 How many seconds are in a day? Use your seconds_per_hour variable.\n",
    "# Multiply the variable 'seconds_per_hour' by # of hours in a day int(24)\n",
    "\n",
    "print(\"There are\", seconds_per_hour*24,\"seconds in one day\")\n",
    "\n",
    "# 3.4 Calculate seconds per day again, but this time save the result in a variable called seconds_per_day\n",
    "seconds_per_day = seconds_per_hour*24\n",
    "\n",
    "# 3.5 Divide seconds_per_day by seconds_per_hour. Use floating-point (/) division.\n",
    "print(seconds_per_day/seconds_per_hour)\n",
    "\n",
    "# 3.6 Divide seconds_per_day by seconds_per_hour, using integer (//) division. Did this number agree with the floating-point value from the previosu question, aside from the final.0?\n",
    "print(seconds_per_day // seconds_per_hour)"
   ]
  }
 ],
 "metadata": {
  "kernelspec": {
   "display_name": "Python [conda env:base] *",
   "language": "python",
   "name": "conda-base-py"
  },
  "language_info": {
   "codemirror_mode": {
    "name": "ipython",
    "version": 3
   },
   "file_extension": ".py",
   "mimetype": "text/x-python",
   "name": "python",
   "nbconvert_exporter": "python",
   "pygments_lexer": "ipython3",
   "version": "3.12.7"
  }
 },
 "nbformat": 4,
 "nbformat_minor": 5
}
