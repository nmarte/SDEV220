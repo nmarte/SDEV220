{
 "cells": [
  {
   "cell_type": "code",
   "execution_count": null,
   "id": "968a9b98-331a-41b6-9627-a6d28aa39ed5",
   "metadata": {},
   "outputs": [],
   "source": [
    "'''\n",
    "M03 Programming Assignment - Lists and Functions\n",
    "Author: Nelson Marte\n",
    "completed 04-07-2025\n",
    "Assignment:\n",
    "Complete the following sections in your Jupyter Notebook:\n",
    "In your text book, navigate to the end of Chapter 7 to the section titled \"Things to Do\"\n",
    "Complete the following sections in your Jupyter Notebook:\n",
    "7.4\n",
    "7.5\n",
    "7.6\n",
    "7.7\n",
    "9.1\n",
    "9.2\n",
    "'''"
   ]
  },
  {
   "cell_type": "code",
   "execution_count": 1,
   "id": "8e4900c6-00e8-45f8-8333-07edcfd209dc",
   "metadata": {},
   "outputs": [
    {
     "name": "stdout",
     "output_type": "stream",
     "text": [
      "['mozzarella', 'cinderella', 'salmonella']\n"
     ]
    }
   ],
   "source": [
    "# THINGS TO DO\n",
    "\n",
    "# 7.4 Make a list called things with these three strings as elements: \n",
    "# \"mozzarella\", \"cinderella\", \"salmonella\".\n",
    "\n",
    "things = [\"mozzarella\", \"cinderella\", \"salmonella\"]\n",
    "print(things)"
   ]
  },
  {
   "cell_type": "code",
   "execution_count": 3,
   "id": "fa0985e0-9b27-4405-b96b-2cccd50ea457",
   "metadata": {},
   "outputs": [
    {
     "name": "stdout",
     "output_type": "stream",
     "text": [
      "['mozzarella', 'Cinderella', 'salmonella']\n"
     ]
    }
   ],
   "source": [
    "# 7.5 Capitalize the element in things that refers to a person and then print the list. \n",
    "# Did it change the element in the list?\n",
    "\n",
    "#things = [thing.capitalize() for thing in things]\n",
    "things[1] = things[1].title()\n",
    "print(things)"
   ]
  },
  {
   "cell_type": "code",
   "execution_count": 5,
   "id": "0b08def4-101d-4abc-bc3e-e70f57374c0e",
   "metadata": {},
   "outputs": [
    {
     "name": "stdout",
     "output_type": "stream",
     "text": [
      "['MOZZARELLA', 'Cinderella', 'salmonella']\n"
     ]
    }
   ],
   "source": [
    "# 7.6 Make the cheesy element of things all uppercase and then print the list.\n",
    "things[0] = things[0].upper()\n",
    "print(things)"
   ]
  },
  {
   "cell_type": "code",
   "execution_count": 7,
   "id": "1d09a7f2-94e6-4e53-bcb6-6e061013592b",
   "metadata": {},
   "outputs": [
    {
     "name": "stdout",
     "output_type": "stream",
     "text": [
      "['MOZZARELLA', 'Cinderella']\n"
     ]
    }
   ],
   "source": [
    "# 7.7 Delete the disease element from things, collect your Nobel Prize, and print the list.\n",
    "del things[-1]\n",
    "print(things)"
   ]
  },
  {
   "cell_type": "code",
   "execution_count": 9,
   "id": "1c97712d-70e7-485d-914a-35871cabdb81",
   "metadata": {},
   "outputs": [
    {
     "name": "stdout",
     "output_type": "stream",
     "text": [
      "['Harry', 'Ron', 'Hermione']\n"
     ]
    }
   ],
   "source": [
    "# 9.1 Define a function called good() that returns the following list: ['Harry', 'Ron', 'Hermione'].\n",
    "names = ['Harry', 'Ron', 'Hermione']\n",
    "\n",
    "def good(text):\n",
    "    return text\n",
    "\n",
    "print(good(names))"
   ]
  },
  {
   "cell_type": "code",
   "execution_count": 11,
   "id": "f20578fe-6e5e-42eb-9687-7dafd0a60cec",
   "metadata": {},
   "outputs": [
    {
     "name": "stdout",
     "output_type": "stream",
     "text": [
      "In the range 0-10, the third odd integer is: 5\n"
     ]
    }
   ],
   "source": [
    "# 9.2 Define a generator function called get_odds() that returns the odd numbers from range(10).\n",
    "# Use a for loop to find and print the third value returned.\n",
    "\n",
    "# Define function\n",
    "def get_odds():\n",
    "    for integer in range(10):\n",
    "        if integer % 2 != 0:  # Checks if integer is odd\n",
    "            yield integer\n",
    "\n",
    "# For loop to iterate over range and print the third odd number\n",
    "count = 0               # initialize count to zero to start\n",
    "for odd in get_odds():  # reference original func\n",
    "    count += 1          # step\n",
    "    if count == 3:\n",
    "        print(f\"In the range 0-10, the third odd integer is: {odd}\")\n",
    "        break"
   ]
  }
 ],
 "metadata": {
  "kernelspec": {
   "display_name": "Python [conda env:base] *",
   "language": "python",
   "name": "conda-base-py"
  },
  "language_info": {
   "codemirror_mode": {
    "name": "ipython",
    "version": 3
   },
   "file_extension": ".py",
   "mimetype": "text/x-python",
   "name": "python",
   "nbconvert_exporter": "python",
   "pygments_lexer": "ipython3",
   "version": "3.12.7"
  }
 },
 "nbformat": 4,
 "nbformat_minor": 5
}
