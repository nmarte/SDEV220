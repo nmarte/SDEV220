{
 "cells": [
  {
   "cell_type": "code",
   "execution_count": null,
   "id": "07fef3c3-6ef3-4a98-a0ed-05e928e8f904",
   "metadata": {},
   "outputs": [],
   "source": [
    "class Solution:\n",
    "\n",
    "    def binarysearch(self, arr, k):\n",
    "        left, right = 0, len(arr) - 1\n",
    "        result = -1\n",
    "\n",
    "        while left <= right:\n",
    "            mid = left + (right - left) // 2\n",
    "\n",
    "            if arr[mid] == k:\n",
    "                result = mid\n",
    "                right = mid - 1  # Search in the left half for the first occurrence\n",
    "            elif arr[mid] < k:\n",
    "                left = mid + 1\n",
    "            else:\n",
    "                right = mid - 1\n",
    "\n",
    "        return result"
   ]
  }
 ],
 "metadata": {
  "kernelspec": {
   "display_name": "Python [conda env:base] *",
   "language": "python",
   "name": "conda-base-py"
  },
  "language_info": {
   "codemirror_mode": {
    "name": "ipython",
    "version": 3
   },
   "file_extension": ".py",
   "mimetype": "text/x-python",
   "name": "python",
   "nbconvert_exporter": "python",
   "pygments_lexer": "ipython3",
   "version": "3.12.7"
  }
 },
 "nbformat": 4,
 "nbformat_minor": 5
}
