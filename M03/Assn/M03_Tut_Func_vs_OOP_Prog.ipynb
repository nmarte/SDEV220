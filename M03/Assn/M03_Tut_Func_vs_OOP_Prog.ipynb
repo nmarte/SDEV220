{
 "cells": [
  {
   "cell_type": "code",
   "execution_count": null,
   "id": "2b92b46b-a446-44c1-bbf5-4c68a98c16a7",
   "metadata": {},
   "outputs": [],
   "source": [
    "'''\n",
    "M03 Programming Assignment - Lists and Functions\n",
    "Author: Nelson Marte\n",
    "completed 04-07-2025\n",
    "Assignment:\n",
    "Complete the following steps:\n",
    "OOP Programming:\n",
    "Navigate to the following URL: Geeks for Geeks Classes and ObjectsLinks to an external site.\n",
    "You will need to sign in to GeekforGeeks after clicking on this link. This is a free service that is also an excellent resource for learning about all things coding.\n",
    "Read through the information related to classes and objects and examine the examples. \n",
    "Complete the programming exercise - Sort an Array of 0s, 1s, and 2sLinks to an external site.. Make sure that you choose Python 3 as the language for the exercise (in the top left of the code window)\n",
    "If you need help with the code, you may click the Editorial tab in the left window (the instructions window) to get a walk-through of the code. \n",
    "Functional Programming\n",
    "Navigate to the following URL: Geeks for Geeks Lambda ExpressionsLinks to an external site.\n",
    "You will need to sign in to GeekforGeeks after clicking on this link. This is a free service that is also a great resource for learning about all things coding.\n",
    "Read through the information related to Lambda Expressions and examine the examples. \n",
    "Complete the programming exercise - Binary SearchLinks to an external site.. Make sure that you choose Python 3 as the language for the exercise (in the top left of the code window)\n",
    "If you need help with the code, you may click the Editorial tab in the left window (the instructions window) to get a walk-through of the code. \n",
    "There will be two exercises that you will need to turn in:\n",
    "Sort an Array of 0s, 1s, and 2s\n",
    "Binary Search\n",
    "'''"
   ]
  },
  {
   "cell_type": "code",
   "execution_count": null,
   "id": "3193b447-f5a5-4dab-90c5-784e2904cb36",
   "metadata": {},
   "outputs": [],
   "source": []
  }
 ],
 "metadata": {
  "kernelspec": {
   "display_name": "Python [conda env:base] *",
   "language": "python",
   "name": "conda-base-py"
  },
  "language_info": {
   "codemirror_mode": {
    "name": "ipython",
    "version": 3
   },
   "file_extension": ".py",
   "mimetype": "text/x-python",
   "name": "python",
   "nbconvert_exporter": "python",
   "pygments_lexer": "ipython3",
   "version": "3.12.7"
  }
 },
 "nbformat": 4,
 "nbformat_minor": 5
}
