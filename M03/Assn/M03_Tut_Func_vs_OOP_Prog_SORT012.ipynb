{
 "cells": [
  {
   "cell_type": "code",
   "execution_count": null,
   "id": "2b92b46b-a446-44c1-bbf5-4c68a98c16a7",
   "metadata": {},
   "outputs": [],
   "source": [
    "'''\n",
    "M03 Programming Assignment - Lists and Functions\n",
    "Author: Nelson Marte\n",
    "completed 04-07-2025\n",
    "Assignment:\n",
    "Complete the following steps:\n",
    "OOP Programming:\n",
    "Navigate to the following URL: Geeks for Geeks Classes and ObjectsLinks to an external site.\n",
    "You will need to sign in to GeekforGeeks after clicking on this link. This is a free service that is also an excellent resource for learning about all things coding.\n",
    "Read through the information related to classes and objects and examine the examples. \n",
    "Complete the programming exercise - Sort an Array of 0s, 1s, and 2sLinks to an external site.. Make sure that you choose Python 3 as the language for the exercise (in the top left of the code window)\n",
    "If you need help with the code, you may click the Editorial tab in the left window (the instructions window) to get a walk-through of the code. \n",
    "Functional Programming\n",
    "Navigate to the following URL: Geeks for Geeks Lambda ExpressionsLinks to an external site.\n",
    "You will need to sign in to GeekforGeeks after clicking on this link. This is a free service that is also a great resource for learning about all things coding.\n",
    "Read through the information related to Lambda Expressions and examine the examples. \n",
    "Complete the programming exercise - Binary SearchLinks to an external site.. Make sure that you choose Python 3 as the language for the exercise (in the top left of the code window)\n",
    "If you need help with the code, you may click the Editorial tab in the left window (the instructions window) to get a walk-through of the code. \n",
    "There will be two exercises that you will need to turn in:\n",
    "Sort an Array of 0s, 1s, and 2s\n",
    "Binary Search\n",
    "'''"
   ]
  },
  {
   "cell_type": "code",
   "execution_count": null,
   "id": "abf4e66e-67f4-4844-a069-d7132654be01",
   "metadata": {},
   "outputs": [],
   "source": [
    "class Solution:\n",
    "    # Function to sort an array of 0s, 1s, and 2s\n",
    "    def sort012(self, arr):\n",
    "        n = len(arr) # keeps track of the length of the array / or num of elements\n",
    "        lo = 0      # low point / initialized @ zero\n",
    "        hi = n-1    # high point / initialized @ last element\n",
    "        mid = 0     # mid point / initialized @ zero\n",
    "        # Iterate until all the elements are sorted\n",
    "        while mid <= hi:        # While the midddle value is less than or equal to the highest value\n",
    "            if arr[mid] == 0:\n",
    "                arr[lo], arr[mid] = arr[mid], arr[lo]   # If mid value is zero then a swap is performed\n",
    "                lo += 1         # Afer the swap, the low and middle values (swapped values)\n",
    "                mid += 1        # are increased by one\n",
    "            elif arr[mid] == 1:\n",
    "                mid += 1\n",
    "            else:               # if mid value is neither zero nor 1, then;\n",
    "                arr[mid], arr[hi] = arr[hi], arr[mid]   # a swap is performed between mid and high values.\n",
    "                hi -= 1\n",
    "        return arr\n",
    "\n",
    "\n",
    "def main():\n",
    "    t = int(input().strip())  # Read the number of test cases\n",
    "    ob = Solution()\n",
    "\n",
    "    while t > 0:\n",
    "        t -= 1\n",
    "        arr = list(map(int,\n",
    "                       input().strip().split())\n",
    "                   )  # Read the array as space-separated integers\n",
    "        ob.sort012(arr)  # Sort the array\n",
    "\n",
    "        print(' '.join(map(str, arr)))  # Print the sorted array\n",
    "        print(\"~\")\n",
    "        \n",
    "if __name__ == \"__main__\":\n",
    "    main()"
   ]
  },
  {
   "cell_type": "code",
   "execution_count": null,
   "id": "3193b447-f5a5-4dab-90c5-784e2904cb36",
   "metadata": {},
   "outputs": [],
   "source": []
  }
 ],
 "metadata": {
  "kernelspec": {
   "display_name": "Python [conda env:base] *",
   "language": "python",
   "name": "conda-base-py"
  },
  "language_info": {
   "codemirror_mode": {
    "name": "ipython",
    "version": 3
   },
   "file_extension": ".py",
   "mimetype": "text/x-python",
   "name": "python",
   "nbconvert_exporter": "python",
   "pygments_lexer": "ipython3",
   "version": "3.12.7"
  }
 },
 "nbformat": 4,
 "nbformat_minor": 5
}
